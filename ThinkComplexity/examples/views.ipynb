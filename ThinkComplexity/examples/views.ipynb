{
 "cells": [
  {
   "cell_type": "markdown",
   "metadata": {},
   "source": [
    "# Array views\n",
    "\n",
    "Code examples from [Think Complexity, 2nd edition](https://thinkcomplex.com).\n",
    "\n",
    "Copyright 2019 Allen Downey, [MIT License](http://opensource.org/licenses/MIT)"
   ]
  },
  {
   "cell_type": "markdown",
   "metadata": {},
   "source": [
    "This notebook explores the idea of array views by writing classes that implement slicing, reshaping, and transpose by creating views rather than creating or modifying arrays."
   ]
  },
  {
   "cell_type": "code",
   "execution_count": 1,
   "metadata": {},
   "outputs": [],
   "source": [
    "import numpy as np"
   ]
  },
  {
   "cell_type": "markdown",
   "metadata": {},
   "source": [
    "### SliceView\n",
    "\n",
    "Here's a class that represents a slice view of an array.\n",
    "\n",
    "The `__init__` method just stores the \"base array\" and the parameters of the slice.\n",
    "\n",
    "When we index into the `SliceView`, `__getitem__` uses the slice parameters to compute an index into the base array."
   ]
  },
  {
   "cell_type": "code",
   "execution_count": 2,
   "metadata": {},
   "outputs": [],
   "source": [
    "class SliceView:\n",
    "    \n",
    "    def __init__(self, base, slc):\n",
    "        self.base = base\n",
    "        self.start = slc.start\n",
    "        self.stop = slc.stop\n",
    "        self.step = slc.step if slc.step else 1\n",
    "        \n",
    "    def __getitem__(self, key):\n",
    "        index = self.start + key * self.step\n",
    "            \n",
    "        if index < self.start:\n",
    "            raise IndexError('too low')\n",
    "            \n",
    "        if index >= self.stop:\n",
    "            raise IndexError('too high')\n",
    "        \n",
    "        return self.base[index]"
   ]
  },
  {
   "cell_type": "markdown",
   "metadata": {},
   "source": [
    "As an example, here's a base array with integers from 0 to 100 (so the values in the array are the same as the indices)."
   ]
  },
  {
   "cell_type": "code",
   "execution_count": 3,
   "metadata": {},
   "outputs": [],
   "source": [
    "a = np.arange(100)\n",
    "a[10]"
   ]
  },
  {
   "cell_type": "markdown",
   "metadata": {},
   "source": [
    "And here's a `SliceView` that selects the elements from index 10 to 20 (not including 20), in steps of 2.  "
   ]
  },
  {
   "cell_type": "code",
   "execution_count": 4,
   "metadata": {},
   "outputs": [],
   "source": [
    "my_sv = SliceView(a, slice(10, 20, 2))\n",
    "my_sv"
   ]
  },
  {
   "cell_type": "markdown",
   "metadata": {},
   "source": [
    "Now here's the same thing using a NumPy slice index:"
   ]
  },
  {
   "cell_type": "code",
   "execution_count": 5,
   "metadata": {},
   "outputs": [],
   "source": [
    "np_sv = a[10:20:2]\n",
    "np_sv"
   ]
  },
  {
   "cell_type": "markdown",
   "metadata": {},
   "source": [
    "We can test that my `SliceView` yields the same result as NumPy's:"
   ]
  },
  {
   "cell_type": "code",
   "execution_count": 6,
   "metadata": {},
   "outputs": [],
   "source": [
    "assert my_sv[0] == np_sv[0]\n",
    "my_sv[0]"
   ]
  },
  {
   "cell_type": "code",
   "execution_count": 7,
   "metadata": {},
   "outputs": [],
   "source": [
    "assert my_sv[4] == np_sv[4]\n",
    "my_sv[4]"
   ]
  },
  {
   "cell_type": "markdown",
   "metadata": {},
   "source": [
    "And it generates an `IndexError` if we go out of bounds."
   ]
  },
  {
   "cell_type": "code",
   "execution_count": 8,
   "metadata": {},
   "outputs": [],
   "source": [
    "my_sv[5]"
   ]
  },
  {
   "cell_type": "markdown",
   "metadata": {},
   "source": [
    "**Exercise:** So far, this implementation doesn't handle negative indices:"
   ]
  },
  {
   "cell_type": "code",
   "execution_count": 9,
   "metadata": {},
   "outputs": [],
   "source": [
    "np_sv[-1]"
   ]
  },
  {
   "cell_type": "code",
   "execution_count": 10,
   "metadata": {},
   "outputs": [],
   "source": [
    "my_sv[-1]"
   ]
  },
  {
   "cell_type": "markdown",
   "metadata": {},
   "source": [
    "Make a modified version of `SliceView`, called `SliceViewNeg`, that handles the following test cases with negative indices."
   ]
  },
  {
   "cell_type": "code",
   "execution_count": 11,
   "metadata": {},
   "outputs": [],
   "source": [
    "# Solution goes here"
   ]
  },
  {
   "cell_type": "markdown",
   "metadata": {},
   "source": [
    "Run the following cell to make a `SliceViewNeg`:"
   ]
  },
  {
   "cell_type": "code",
   "execution_count": 12,
   "metadata": {},
   "outputs": [],
   "source": [
    "my_svn = SliceViewNeg(a, slice(10, 20, 2))\n",
    "my_svn"
   ]
  },
  {
   "cell_type": "markdown",
   "metadata": {},
   "source": [
    "Then run the following tests."
   ]
  },
  {
   "cell_type": "code",
   "execution_count": 13,
   "metadata": {},
   "outputs": [],
   "source": [
    "assert my_svn[-1] == np_sv[-1]\n",
    "my_svn[-1]"
   ]
  },
  {
   "cell_type": "code",
   "execution_count": 14,
   "metadata": {},
   "outputs": [],
   "source": [
    "assert my_svn[-5] == np_sv[-5]\n",
    "my_svn[-5]"
   ]
  },
  {
   "cell_type": "markdown",
   "metadata": {},
   "source": [
    "And the following cell should raise an `IndexError`."
   ]
  },
  {
   "cell_type": "code",
   "execution_count": 15,
   "metadata": {},
   "outputs": [],
   "source": [
    "my_svn[-6]"
   ]
  },
  {
   "cell_type": "markdown",
   "metadata": {},
   "source": [
    "## Reshape\n",
    "\n",
    "The following class defines `ReshapeView`, which makes it possible to view a 1D array as if it were 2D with the given shape (number of rows and columns)."
   ]
  },
  {
   "cell_type": "code",
   "execution_count": 16,
   "metadata": {},
   "outputs": [],
   "source": [
    "class ReshapeView:\n",
    "    \n",
    "    def __init__(self, base, shape):\n",
    "        self.base = base\n",
    "        self.shape = shape\n",
    "        \n",
    "    def __getitem__(self, key):\n",
    "        i, j = key\n",
    "        nrows, ncols = self.shape\n",
    "        index = i * ncols + j\n",
    "        return self.base[index]\n",
    "    \n",
    "def reshape(array, shape):\n",
    "    return ReshapeView(array, shape)"
   ]
  },
  {
   "cell_type": "markdown",
   "metadata": {},
   "source": [
    "Here's a `ReshapeView` of the same base array, now with 5 rows and 20 columns."
   ]
  },
  {
   "cell_type": "code",
   "execution_count": 17,
   "metadata": {},
   "outputs": [],
   "source": [
    "my_rv = reshape(a, (5, 20))\n",
    "my_rv"
   ]
  },
  {
   "cell_type": "markdown",
   "metadata": {},
   "source": [
    "Here's a reshaped array using `np.reshape`."
   ]
  },
  {
   "cell_type": "code",
   "execution_count": 18,
   "metadata": {},
   "outputs": [],
   "source": [
    "np_rv = np.reshape(a, (5, 20))\n",
    "np_rv"
   ]
  },
  {
   "cell_type": "markdown",
   "metadata": {},
   "source": [
    "The following tests show that the two views yield the same results."
   ]
  },
  {
   "cell_type": "code",
   "execution_count": 19,
   "metadata": {},
   "outputs": [],
   "source": [
    "assert my_rv[0, 0] == np_rv[0, 0]\n",
    "my_rv[0, 0]"
   ]
  },
  {
   "cell_type": "code",
   "execution_count": 20,
   "metadata": {},
   "outputs": [],
   "source": [
    "assert my_rv[0, 19] == np_rv[0, 19]\n",
    "my_rv[0, 19]"
   ]
  },
  {
   "cell_type": "code",
   "execution_count": 21,
   "metadata": {},
   "outputs": [],
   "source": [
    "assert my_rv[4, 0] == np_rv[4, 0]\n",
    "my_rv[4, 0]"
   ]
  },
  {
   "cell_type": "code",
   "execution_count": 22,
   "metadata": {},
   "outputs": [],
   "source": [
    "assert my_rv[4, 19] == np_rv[4, 19]\n",
    "my_rv[4, 19]"
   ]
  },
  {
   "cell_type": "markdown",
   "metadata": {},
   "source": [
    "**Exercise:** The implementation so far does not check bounds on both axes, so if you go past the end of a row, it wraps around to the next row."
   ]
  },
  {
   "cell_type": "code",
   "execution_count": 23,
   "metadata": {},
   "outputs": [],
   "source": [
    "my_rv[0, 20]"
   ]
  },
  {
   "cell_type": "markdown",
   "metadata": {},
   "source": [
    "Write a version of `ReshapeView`, called `ReshapeViewCheck`, that raises an exception if you go past the end of a row."
   ]
  },
  {
   "cell_type": "code",
   "execution_count": 24,
   "metadata": {},
   "outputs": [],
   "source": [
    "# Solution goes here"
   ]
  },
  {
   "cell_type": "markdown",
   "metadata": {},
   "source": [
    "Run the following cell to create a `ReshapeViewCheck` and confirm that it raises an `IndexError` if you go past the end of a row."
   ]
  },
  {
   "cell_type": "code",
   "execution_count": 25,
   "metadata": {},
   "outputs": [],
   "source": [
    "def reshape_check(array, shape):\n",
    "    return ReshapeViewCheck(array, shape)\n",
    "\n",
    "my_rvc = reshape_check(a, (5, 20))\n",
    "my_rvc[0, 20]"
   ]
  },
  {
   "cell_type": "markdown",
   "metadata": {},
   "source": [
    "## Transpose\n",
    "\n",
    "**Exercise:** Write a class called `TransposeView` that creates a transpose view of an array so it's consistent with `np.transpose`.  Your implementation should pass the tests below:"
   ]
  },
  {
   "cell_type": "code",
   "execution_count": 26,
   "metadata": {},
   "outputs": [],
   "source": [
    "# Solution goes here"
   ]
  },
  {
   "cell_type": "code",
   "execution_count": 27,
   "metadata": {},
   "outputs": [],
   "source": [
    "def transpose(view):\n",
    "    return TransposeView(view)"
   ]
  },
  {
   "cell_type": "code",
   "execution_count": 28,
   "metadata": {},
   "outputs": [],
   "source": [
    "my_tv = transpose(my_rv)\n",
    "my_tv"
   ]
  },
  {
   "cell_type": "code",
   "execution_count": 29,
   "metadata": {},
   "outputs": [],
   "source": [
    "np_tv = np.transpose(np_rv)\n",
    "np_tv"
   ]
  },
  {
   "cell_type": "code",
   "execution_count": 30,
   "metadata": {},
   "outputs": [],
   "source": [
    "assert my_tv[0, 0] == np_tv[0, 0]\n",
    "my_tv[0, 0]"
   ]
  },
  {
   "cell_type": "code",
   "execution_count": 31,
   "metadata": {},
   "outputs": [],
   "source": [
    "assert my_tv[0, 4] == np_tv[0, 4]\n",
    "my_tv[0, 4]"
   ]
  },
  {
   "cell_type": "code",
   "execution_count": 32,
   "metadata": {},
   "outputs": [],
   "source": [
    "assert my_tv[19, 0] == np_tv[19, 0]\n",
    "my_tv[19, 0]"
   ]
  },
  {
   "cell_type": "code",
   "execution_count": 33,
   "metadata": {},
   "outputs": [],
   "source": [
    "assert my_tv[19, 4] == np_tv[19, 4]\n",
    "my_tv[19, 4]"
   ]
  },
  {
   "cell_type": "code",
   "execution_count": null,
   "metadata": {},
   "outputs": [],
   "source": []
  }
 ],
 "metadata": {
  "kernelspec": {
   "display_name": "Python 3",
   "language": "python",
   "name": "python3"
  },
  "language_info": {
   "codemirror_mode": {
    "name": "ipython",
    "version": 3
   },
   "file_extension": ".py",
   "mimetype": "text/x-python",
   "name": "python",
   "nbconvert_exporter": "python",
   "pygments_lexer": "ipython3",
   "version": "3.7.4"
  }
 },
 "nbformat": 4,
 "nbformat_minor": 2
}
